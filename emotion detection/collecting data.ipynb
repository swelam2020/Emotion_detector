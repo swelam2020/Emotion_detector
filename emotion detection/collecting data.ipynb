{
 "cells": [
  {
   "cell_type": "code",
   "execution_count": null,
   "id": "67efe71d",
   "metadata": {},
   "outputs": [],
   "source": [
    "import pandas as pd\n",
    "import numpy as np\n",
    "import re\n",
    "from sklearn.model_selection import train_test_split"
   ]
  },
  {
   "cell_type": "code",
   "execution_count": null,
   "id": "c126e68c",
   "metadata": {},
   "outputs": [],
   "source": [
    "df = pd.read_csv('train.txt',delimiter = ';')\n",
    "df.columns = ['content', 'sentiment']\n",
    "  \n",
    "df.to_csv ('data1.csv', index=None)\n"
   ]
  },
  {
   "cell_type": "code",
   "execution_count": null,
   "id": "8b82da7b",
   "metadata": {},
   "outputs": [],
   "source": [
    "df = pd.read_csv('training.csv')\n",
    "df.head()"
   ]
  },
  {
   "cell_type": "code",
   "execution_count": null,
   "id": "e224e073",
   "metadata": {},
   "outputs": [],
   "source": [
    "imp_emotions = ['sadness' , 'happiness' , 'anger' , 'neutral']\n",
    "\n",
    "un_imp_emotions=[item for item in (df['sentiment'].unique()) if item not in imp_emotions ]\n",
    "un_imp_emotions"
   ]
  },
  {
   "cell_type": "code",
   "execution_count": null,
   "id": "37277a65",
   "metadata": {},
   "outputs": [],
   "source": [
    "for i in un_imp_emotions:\n",
    "    df = df.drop(df[df.sentiment == i].index)\n",
    "\n",
    "df"
   ]
  },
  {
   "cell_type": "code",
   "execution_count": null,
   "id": "8191ee78",
   "metadata": {},
   "outputs": [],
   "source": [
    "import seaborn as sns\n",
    "sns.countplot(df['sentiment'])"
   ]
  },
  {
   "cell_type": "code",
   "execution_count": null,
   "id": "d576ad14",
   "metadata": {},
   "outputs": [],
   "source": [
    "df3=pd.read_csv('train2.csv')\n",
    "df3 = df3.drop(df3[df3.label != 3].index)\n",
    "df3.columns=['content' , 'sentiment']\n",
    "df3.sentiment='anger'\n",
    "x1=df3['content']\n",
    "x2=df3['sentiment']\n",
    "df3 = pd.DataFrame(list(zip(x1, x2)),\n",
    "               columns =['content', 'sentiment'])\n",
    "df3"
   ]
  },
  {
   "cell_type": "code",
   "execution_count": null,
   "id": "e019fd1c",
   "metadata": {},
   "outputs": [],
   "source": [
    "data=[df,df3]\n",
    "df = pd.concat(data)\n",
    "df"
   ]
  },
  {
   "cell_type": "code",
   "execution_count": null,
   "id": "d329cb40",
   "metadata": {},
   "outputs": [],
   "source": [
    "import seaborn as sns\n",
    "sns.countplot(df['sentiment'])"
   ]
  },
  {
   "cell_type": "code",
   "execution_count": null,
   "id": "1f04ae72",
   "metadata": {},
   "outputs": [],
   "source": [
    "df.to_csv('new_data.csv', index=False)"
   ]
  }
 ],
 "metadata": {
  "kernelspec": {
   "display_name": "Python 3 (ipykernel)",
   "language": "python",
   "name": "python3"
  },
  "language_info": {
   "codemirror_mode": {
    "name": "ipython",
    "version": 3
   },
   "file_extension": ".py",
   "mimetype": "text/x-python",
   "name": "python",
   "nbconvert_exporter": "python",
   "pygments_lexer": "ipython3",
   "version": "3.8.12"
  }
 },
 "nbformat": 4,
 "nbformat_minor": 5
}
