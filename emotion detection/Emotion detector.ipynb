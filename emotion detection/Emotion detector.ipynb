{
 "cells": [
  {
   "cell_type": "markdown",
   "id": "2fdffdeb",
   "metadata": {},
   "source": [
    "# preparing Data"
   ]
  },
  {
   "cell_type": "code",
   "execution_count": 1,
   "id": "ccc7d95a",
   "metadata": {},
   "outputs": [
    {
     "data": {
      "text/html": [
       "<div>\n",
       "<style scoped>\n",
       "    .dataframe tbody tr th:only-of-type {\n",
       "        vertical-align: middle;\n",
       "    }\n",
       "\n",
       "    .dataframe tbody tr th {\n",
       "        vertical-align: top;\n",
       "    }\n",
       "\n",
       "    .dataframe thead th {\n",
       "        text-align: right;\n",
       "    }\n",
       "</style>\n",
       "<table border=\"1\" class=\"dataframe\">\n",
       "  <thead>\n",
       "    <tr style=\"text-align: right;\">\n",
       "      <th></th>\n",
       "      <th>tweet_id</th>\n",
       "      <th>sentiment</th>\n",
       "      <th>author</th>\n",
       "      <th>content</th>\n",
       "    </tr>\n",
       "  </thead>\n",
       "  <tbody>\n",
       "    <tr>\n",
       "      <th>0</th>\n",
       "      <td>1956967341</td>\n",
       "      <td>empty</td>\n",
       "      <td>xoshayzers</td>\n",
       "      <td>@tiffanylue i know  i was listenin to bad habi...</td>\n",
       "    </tr>\n",
       "    <tr>\n",
       "      <th>1</th>\n",
       "      <td>1956967666</td>\n",
       "      <td>sadness</td>\n",
       "      <td>wannamama</td>\n",
       "      <td>Layin n bed with a headache  ughhhh...waitin o...</td>\n",
       "    </tr>\n",
       "    <tr>\n",
       "      <th>2</th>\n",
       "      <td>1956967696</td>\n",
       "      <td>sadness</td>\n",
       "      <td>coolfunky</td>\n",
       "      <td>Funeral ceremony...gloomy friday...</td>\n",
       "    </tr>\n",
       "    <tr>\n",
       "      <th>3</th>\n",
       "      <td>1956967789</td>\n",
       "      <td>enthusiasm</td>\n",
       "      <td>czareaquino</td>\n",
       "      <td>wants to hang out with friends SOON!</td>\n",
       "    </tr>\n",
       "    <tr>\n",
       "      <th>4</th>\n",
       "      <td>1956968416</td>\n",
       "      <td>neutral</td>\n",
       "      <td>xkilljoyx</td>\n",
       "      <td>@dannycastillo We want to trade with someone w...</td>\n",
       "    </tr>\n",
       "  </tbody>\n",
       "</table>\n",
       "</div>"
      ],
      "text/plain": [
       "     tweet_id   sentiment       author  \\\n",
       "0  1956967341       empty   xoshayzers   \n",
       "1  1956967666     sadness    wannamama   \n",
       "2  1956967696     sadness    coolfunky   \n",
       "3  1956967789  enthusiasm  czareaquino   \n",
       "4  1956968416     neutral    xkilljoyx   \n",
       "\n",
       "                                             content  \n",
       "0  @tiffanylue i know  i was listenin to bad habi...  \n",
       "1  Layin n bed with a headache  ughhhh...waitin o...  \n",
       "2                Funeral ceremony...gloomy friday...  \n",
       "3               wants to hang out with friends SOON!  \n",
       "4  @dannycastillo We want to trade with someone w...  "
      ]
     },
     "execution_count": 1,
     "metadata": {},
     "output_type": "execute_result"
    }
   ],
   "source": [
    "import pandas as pd\n",
    "import numpy as np\n",
    "import tqdm\n",
    "df = pd.read_csv('text_emotion.csv')\n",
    "df.head()"
   ]
  },
  {
   "cell_type": "code",
   "execution_count": 2,
   "id": "1e04b60d",
   "metadata": {},
   "outputs": [
    {
     "data": {
      "text/html": [
       "<div>\n",
       "<style scoped>\n",
       "    .dataframe tbody tr th:only-of-type {\n",
       "        vertical-align: middle;\n",
       "    }\n",
       "\n",
       "    .dataframe tbody tr th {\n",
       "        vertical-align: top;\n",
       "    }\n",
       "\n",
       "    .dataframe thead th {\n",
       "        text-align: right;\n",
       "    }\n",
       "</style>\n",
       "<table border=\"1\" class=\"dataframe\">\n",
       "  <thead>\n",
       "    <tr style=\"text-align: right;\">\n",
       "      <th></th>\n",
       "      <th>sentiment</th>\n",
       "      <th>content</th>\n",
       "    </tr>\n",
       "  </thead>\n",
       "  <tbody>\n",
       "    <tr>\n",
       "      <th>0</th>\n",
       "      <td>empty</td>\n",
       "      <td>@tiffanylue i know  i was listenin to bad habi...</td>\n",
       "    </tr>\n",
       "    <tr>\n",
       "      <th>1</th>\n",
       "      <td>sadness</td>\n",
       "      <td>Layin n bed with a headache  ughhhh...waitin o...</td>\n",
       "    </tr>\n",
       "    <tr>\n",
       "      <th>2</th>\n",
       "      <td>sadness</td>\n",
       "      <td>Funeral ceremony...gloomy friday...</td>\n",
       "    </tr>\n",
       "    <tr>\n",
       "      <th>3</th>\n",
       "      <td>enthusiasm</td>\n",
       "      <td>wants to hang out with friends SOON!</td>\n",
       "    </tr>\n",
       "    <tr>\n",
       "      <th>4</th>\n",
       "      <td>neutral</td>\n",
       "      <td>@dannycastillo We want to trade with someone w...</td>\n",
       "    </tr>\n",
       "    <tr>\n",
       "      <th>...</th>\n",
       "      <td>...</td>\n",
       "      <td>...</td>\n",
       "    </tr>\n",
       "    <tr>\n",
       "      <th>39995</th>\n",
       "      <td>neutral</td>\n",
       "      <td>@JohnLloydTaylor</td>\n",
       "    </tr>\n",
       "    <tr>\n",
       "      <th>39996</th>\n",
       "      <td>love</td>\n",
       "      <td>Happy Mothers Day  All my love</td>\n",
       "    </tr>\n",
       "    <tr>\n",
       "      <th>39997</th>\n",
       "      <td>love</td>\n",
       "      <td>Happy Mother's Day to all the mommies out ther...</td>\n",
       "    </tr>\n",
       "    <tr>\n",
       "      <th>39998</th>\n",
       "      <td>happiness</td>\n",
       "      <td>@niariley WASSUP BEAUTIFUL!!! FOLLOW ME!!  PEE...</td>\n",
       "    </tr>\n",
       "    <tr>\n",
       "      <th>39999</th>\n",
       "      <td>love</td>\n",
       "      <td>@mopedronin bullet train from tokyo    the gf ...</td>\n",
       "    </tr>\n",
       "  </tbody>\n",
       "</table>\n",
       "<p>40000 rows × 2 columns</p>\n",
       "</div>"
      ],
      "text/plain": [
       "        sentiment                                            content\n",
       "0           empty  @tiffanylue i know  i was listenin to bad habi...\n",
       "1         sadness  Layin n bed with a headache  ughhhh...waitin o...\n",
       "2         sadness                Funeral ceremony...gloomy friday...\n",
       "3      enthusiasm               wants to hang out with friends SOON!\n",
       "4         neutral  @dannycastillo We want to trade with someone w...\n",
       "...           ...                                                ...\n",
       "39995     neutral                                   @JohnLloydTaylor\n",
       "39996        love                     Happy Mothers Day  All my love\n",
       "39997        love  Happy Mother's Day to all the mommies out ther...\n",
       "39998   happiness  @niariley WASSUP BEAUTIFUL!!! FOLLOW ME!!  PEE...\n",
       "39999        love  @mopedronin bullet train from tokyo    the gf ...\n",
       "\n",
       "[40000 rows x 2 columns]"
      ]
     },
     "execution_count": 2,
     "metadata": {},
     "output_type": "execute_result"
    }
   ],
   "source": [
    "df=df.drop(['tweet_id','author'],axis=1)\n",
    "\n",
    "df"
   ]
  },
  {
   "cell_type": "code",
   "execution_count": 3,
   "id": "cb5c2a94",
   "metadata": {},
   "outputs": [
    {
     "data": {
      "text/plain": [
       "array(['empty', 'sadness', 'enthusiasm', 'neutral', 'worry', 'surprise',\n",
       "       'love', 'fun', 'hate', 'happiness', 'boredom', 'relief', 'anger'],\n",
       "      dtype=object)"
      ]
     },
     "execution_count": 3,
     "metadata": {},
     "output_type": "execute_result"
    }
   ],
   "source": [
    "df['sentiment'].unique()"
   ]
  },
  {
   "cell_type": "code",
   "execution_count": 4,
   "id": "982ec41b",
   "metadata": {},
   "outputs": [
    {
     "data": {
      "text/plain": [
       "['empty',\n",
       " 'enthusiasm',\n",
       " 'worry',\n",
       " 'surprise',\n",
       " 'love',\n",
       " 'fun',\n",
       " 'hate',\n",
       " 'boredom',\n",
       " 'relief']"
      ]
     },
     "execution_count": 4,
     "metadata": {},
     "output_type": "execute_result"
    }
   ],
   "source": [
    "imp_emotions = ['sadness' , 'happiness' , 'anger' , 'neutral']\n",
    "\n",
    "un_imp_emotions=[item for item in (df['sentiment'].unique()) if item not in imp_emotions ]\n",
    "un_imp_emotions"
   ]
  },
  {
   "cell_type": "code",
   "execution_count": 5,
   "id": "2acc4751",
   "metadata": {},
   "outputs": [
    {
     "data": {
      "text/html": [
       "<div>\n",
       "<style scoped>\n",
       "    .dataframe tbody tr th:only-of-type {\n",
       "        vertical-align: middle;\n",
       "    }\n",
       "\n",
       "    .dataframe tbody tr th {\n",
       "        vertical-align: top;\n",
       "    }\n",
       "\n",
       "    .dataframe thead th {\n",
       "        text-align: right;\n",
       "    }\n",
       "</style>\n",
       "<table border=\"1\" class=\"dataframe\">\n",
       "  <thead>\n",
       "    <tr style=\"text-align: right;\">\n",
       "      <th></th>\n",
       "      <th>sentiment</th>\n",
       "      <th>content</th>\n",
       "    </tr>\n",
       "  </thead>\n",
       "  <tbody>\n",
       "    <tr>\n",
       "      <th>1</th>\n",
       "      <td>sadness</td>\n",
       "      <td>Layin n bed with a headache  ughhhh...waitin o...</td>\n",
       "    </tr>\n",
       "    <tr>\n",
       "      <th>2</th>\n",
       "      <td>sadness</td>\n",
       "      <td>Funeral ceremony...gloomy friday...</td>\n",
       "    </tr>\n",
       "    <tr>\n",
       "      <th>4</th>\n",
       "      <td>neutral</td>\n",
       "      <td>@dannycastillo We want to trade with someone w...</td>\n",
       "    </tr>\n",
       "    <tr>\n",
       "      <th>6</th>\n",
       "      <td>sadness</td>\n",
       "      <td>I should be sleep, but im not! thinking about ...</td>\n",
       "    </tr>\n",
       "    <tr>\n",
       "      <th>8</th>\n",
       "      <td>sadness</td>\n",
       "      <td>@charviray Charlene my love. I miss you</td>\n",
       "    </tr>\n",
       "    <tr>\n",
       "      <th>...</th>\n",
       "      <td>...</td>\n",
       "      <td>...</td>\n",
       "    </tr>\n",
       "    <tr>\n",
       "      <th>39992</th>\n",
       "      <td>neutral</td>\n",
       "      <td>@jasimmo Ooo showing of your French skills!! l...</td>\n",
       "    </tr>\n",
       "    <tr>\n",
       "      <th>39993</th>\n",
       "      <td>neutral</td>\n",
       "      <td>@sendsome2me haha, yeah. Twitter has many uses...</td>\n",
       "    </tr>\n",
       "    <tr>\n",
       "      <th>39994</th>\n",
       "      <td>happiness</td>\n",
       "      <td>Succesfully following Tayla!!</td>\n",
       "    </tr>\n",
       "    <tr>\n",
       "      <th>39995</th>\n",
       "      <td>neutral</td>\n",
       "      <td>@JohnLloydTaylor</td>\n",
       "    </tr>\n",
       "    <tr>\n",
       "      <th>39998</th>\n",
       "      <td>happiness</td>\n",
       "      <td>@niariley WASSUP BEAUTIFUL!!! FOLLOW ME!!  PEE...</td>\n",
       "    </tr>\n",
       "  </tbody>\n",
       "</table>\n",
       "<p>19122 rows × 2 columns</p>\n",
       "</div>"
      ],
      "text/plain": [
       "       sentiment                                            content\n",
       "1        sadness  Layin n bed with a headache  ughhhh...waitin o...\n",
       "2        sadness                Funeral ceremony...gloomy friday...\n",
       "4        neutral  @dannycastillo We want to trade with someone w...\n",
       "6        sadness  I should be sleep, but im not! thinking about ...\n",
       "8        sadness            @charviray Charlene my love. I miss you\n",
       "...          ...                                                ...\n",
       "39992    neutral  @jasimmo Ooo showing of your French skills!! l...\n",
       "39993    neutral  @sendsome2me haha, yeah. Twitter has many uses...\n",
       "39994  happiness                      Succesfully following Tayla!!\n",
       "39995    neutral                                   @JohnLloydTaylor\n",
       "39998  happiness  @niariley WASSUP BEAUTIFUL!!! FOLLOW ME!!  PEE...\n",
       "\n",
       "[19122 rows x 2 columns]"
      ]
     },
     "execution_count": 5,
     "metadata": {},
     "output_type": "execute_result"
    }
   ],
   "source": [
    "for i in un_imp_emotions:\n",
    "    df = df.drop(df[df.sentiment == i].index)\n",
    "\n",
    "df"
   ]
  },
  {
   "cell_type": "code",
   "execution_count": 6,
   "id": "75df7842",
   "metadata": {},
   "outputs": [
    {
     "name": "stderr",
     "output_type": "stream",
     "text": [
      "C:\\Users\\Muhammad Swelam\\anaconda3\\lib\\site-packages\\seaborn\\_decorators.py:36: FutureWarning: Pass the following variable as a keyword arg: x. From version 0.12, the only valid positional argument will be `data`, and passing other arguments without an explicit keyword will result in an error or misinterpretation.\n",
      "  warnings.warn(\n"
     ]
    },
    {
     "data": {
      "text/plain": [
       "<AxesSubplot:xlabel='sentiment', ylabel='count'>"
      ]
     },
     "execution_count": 6,
     "metadata": {},
     "output_type": "execute_result"
    },
    {
     "data": {
      "image/png": "[encoded data removed]",
      "text/plain": [
       "<Figure size 432x288 with 1 Axes>"
      ]
     },
     "metadata": {
      "needs_background": "light"
     },
     "output_type": "display_data"
    }
   ],
   "source": [
    "import seaborn as sns\n",
    "sns.countplot(df['sentiment'])"
   ]
  },
  {
   "cell_type": "code",
   "execution_count": 7,
   "id": "7754931b",
   "metadata": {},
   "outputs": [
    {
     "data": {
      "text/html": [
       "<div>\n",
       "<style scoped>\n",
       "    .dataframe tbody tr th:only-of-type {\n",
       "        vertical-align: middle;\n",
       "    }\n",
       "\n",
       "    .dataframe tbody tr th {\n",
       "        vertical-align: top;\n",
       "    }\n",
       "\n",
       "    .dataframe thead th {\n",
       "        text-align: right;\n",
       "    }\n",
       "</style>\n",
       "<table border=\"1\" class=\"dataframe\">\n",
       "  <thead>\n",
       "    <tr style=\"text-align: right;\">\n",
       "      <th></th>\n",
       "      <th>content</th>\n",
       "      <th>sentiment</th>\n",
       "    </tr>\n",
       "  </thead>\n",
       "  <tbody>\n",
       "    <tr>\n",
       "      <th>0</th>\n",
       "      <td>i can go from feeling so hopeless to so damned...</td>\n",
       "      <td>sadness</td>\n",
       "    </tr>\n",
       "    <tr>\n",
       "      <th>1</th>\n",
       "      <td>im grabbing a minute to post i feel greedy wrong</td>\n",
       "      <td>anger</td>\n",
       "    </tr>\n",
       "    <tr>\n",
       "      <th>2</th>\n",
       "      <td>i am feeling grouchy</td>\n",
       "      <td>anger</td>\n",
       "    </tr>\n",
       "    <tr>\n",
       "      <th>3</th>\n",
       "      <td>ive been feeling a little burdened lately wasn...</td>\n",
       "      <td>sadness</td>\n",
       "    </tr>\n",
       "    <tr>\n",
       "      <th>4</th>\n",
       "      <td>i feel like i have to make the suffering i m s...</td>\n",
       "      <td>sadness</td>\n",
       "    </tr>\n",
       "    <tr>\n",
       "      <th>...</th>\n",
       "      <td>...</td>\n",
       "      <td>...</td>\n",
       "    </tr>\n",
       "    <tr>\n",
       "      <th>8978</th>\n",
       "      <td>i have a feeling im going to be heartless</td>\n",
       "      <td>anger</td>\n",
       "    </tr>\n",
       "    <tr>\n",
       "      <th>8979</th>\n",
       "      <td>i often find my self feeling offended myself w...</td>\n",
       "      <td>anger</td>\n",
       "    </tr>\n",
       "    <tr>\n",
       "      <th>8980</th>\n",
       "      <td>i took a minute to appreciate the trees around...</td>\n",
       "      <td>anger</td>\n",
       "    </tr>\n",
       "    <tr>\n",
       "      <th>8981</th>\n",
       "      <td>i moved away he said something that made me fe...</td>\n",
       "      <td>anger</td>\n",
       "    </tr>\n",
       "    <tr>\n",
       "      <th>8982</th>\n",
       "      <td>i feel like this was such a rude comment and i...</td>\n",
       "      <td>anger</td>\n",
       "    </tr>\n",
       "  </tbody>\n",
       "</table>\n",
       "<p>8983 rows × 2 columns</p>\n",
       "</div>"
      ],
      "text/plain": [
       "                                                content sentiment\n",
       "0     i can go from feeling so hopeless to so damned...   sadness\n",
       "1      im grabbing a minute to post i feel greedy wrong     anger\n",
       "2                                  i am feeling grouchy     anger\n",
       "3     ive been feeling a little burdened lately wasn...   sadness\n",
       "4     i feel like i have to make the suffering i m s...   sadness\n",
       "...                                                 ...       ...\n",
       "8978          i have a feeling im going to be heartless     anger\n",
       "8979  i often find my self feeling offended myself w...     anger\n",
       "8980  i took a minute to appreciate the trees around...     anger\n",
       "8981  i moved away he said something that made me fe...     anger\n",
       "8982  i feel like this was such a rude comment and i...     anger\n",
       "\n",
       "[8983 rows x 2 columns]"
      ]
     },
     "execution_count": 7,
     "metadata": {},
     "output_type": "execute_result"
    }
   ],
   "source": [
    "data= pd.read_csv('new_data.csv')\n",
    "data"
   ]
  },
  {
   "cell_type": "code",
   "execution_count": 8,
   "id": "5ee3f34e",
   "metadata": {},
   "outputs": [
    {
     "data": {
      "text/html": [
       "<div>\n",
       "<style scoped>\n",
       "    .dataframe tbody tr th:only-of-type {\n",
       "        vertical-align: middle;\n",
       "    }\n",
       "\n",
       "    .dataframe tbody tr th {\n",
       "        vertical-align: top;\n",
       "    }\n",
       "\n",
       "    .dataframe thead th {\n",
       "        text-align: right;\n",
       "    }\n",
       "</style>\n",
       "<table border=\"1\" class=\"dataframe\">\n",
       "  <thead>\n",
       "    <tr style=\"text-align: right;\">\n",
       "      <th></th>\n",
       "      <th>sentiment</th>\n",
       "      <th>content</th>\n",
       "    </tr>\n",
       "  </thead>\n",
       "  <tbody>\n",
       "    <tr>\n",
       "      <th>1</th>\n",
       "      <td>sadness</td>\n",
       "      <td>Layin n bed with a headache  ughhhh...waitin o...</td>\n",
       "    </tr>\n",
       "    <tr>\n",
       "      <th>2</th>\n",
       "      <td>sadness</td>\n",
       "      <td>Funeral ceremony...gloomy friday...</td>\n",
       "    </tr>\n",
       "    <tr>\n",
       "      <th>4</th>\n",
       "      <td>neutral</td>\n",
       "      <td>@dannycastillo We want to trade with someone w...</td>\n",
       "    </tr>\n",
       "    <tr>\n",
       "      <th>6</th>\n",
       "      <td>sadness</td>\n",
       "      <td>I should be sleep, but im not! thinking about ...</td>\n",
       "    </tr>\n",
       "    <tr>\n",
       "      <th>8</th>\n",
       "      <td>sadness</td>\n",
       "      <td>@charviray Charlene my love. I miss you</td>\n",
       "    </tr>\n",
       "    <tr>\n",
       "      <th>...</th>\n",
       "      <td>...</td>\n",
       "      <td>...</td>\n",
       "    </tr>\n",
       "    <tr>\n",
       "      <th>8978</th>\n",
       "      <td>anger</td>\n",
       "      <td>i have a feeling im going to be heartless</td>\n",
       "    </tr>\n",
       "    <tr>\n",
       "      <th>8979</th>\n",
       "      <td>anger</td>\n",
       "      <td>i often find my self feeling offended myself w...</td>\n",
       "    </tr>\n",
       "    <tr>\n",
       "      <th>8980</th>\n",
       "      <td>anger</td>\n",
       "      <td>i took a minute to appreciate the trees around...</td>\n",
       "    </tr>\n",
       "    <tr>\n",
       "      <th>8981</th>\n",
       "      <td>anger</td>\n",
       "      <td>i moved away he said something that made me fe...</td>\n",
       "    </tr>\n",
       "    <tr>\n",
       "      <th>8982</th>\n",
       "      <td>anger</td>\n",
       "      <td>i feel like this was such a rude comment and i...</td>\n",
       "    </tr>\n",
       "  </tbody>\n",
       "</table>\n",
       "<p>28105 rows × 2 columns</p>\n",
       "</div>"
      ],
      "text/plain": [
       "     sentiment                                            content\n",
       "1      sadness  Layin n bed with a headache  ughhhh...waitin o...\n",
       "2      sadness                Funeral ceremony...gloomy friday...\n",
       "4      neutral  @dannycastillo We want to trade with someone w...\n",
       "6      sadness  I should be sleep, but im not! thinking about ...\n",
       "8      sadness            @charviray Charlene my love. I miss you\n",
       "...        ...                                                ...\n",
       "8978     anger          i have a feeling im going to be heartless\n",
       "8979     anger  i often find my self feeling offended myself w...\n",
       "8980     anger  i took a minute to appreciate the trees around...\n",
       "8981     anger  i moved away he said something that made me fe...\n",
       "8982     anger  i feel like this was such a rude comment and i...\n",
       "\n",
       "[28105 rows x 2 columns]"
      ]
     },
     "execution_count": 8,
     "metadata": {},
     "output_type": "execute_result"
    }
   ],
   "source": [
    "collection=[df,data]\n",
    "df=pd.concat(collection)\n",
    "df"
   ]
  },
  {
   "cell_type": "code",
   "execution_count": 9,
   "id": "5251ba3f",
   "metadata": {},
   "outputs": [
    {
     "name": "stderr",
     "output_type": "stream",
     "text": [
      "C:\\Users\\Muhammad Swelam\\anaconda3\\lib\\site-packages\\seaborn\\_decorators.py:36: FutureWarning: Pass the following variable as a keyword arg: x. From version 0.12, the only valid positional argument will be `data`, and passing other arguments without an explicit keyword will result in an error or misinterpretation.\n",
      "  warnings.warn(\n"
     ]
    },
    {
     "data": {
      "text/plain": [
       "<AxesSubplot:xlabel='sentiment', ylabel='count'>"
      ]
     },
     "execution_count": 9,
     "metadata": {},
     "output_type": "execute_result"
    },
    {
     "data": {
      "image/png": "[encoded data removed]",
      "text/plain": [
       "<Figure size 432x288 with 1 Axes>"
      ]
     },
     "metadata": {
      "needs_background": "light"
     },
     "output_type": "display_data"
    }
   ],
   "source": [
    "import seaborn as sns\n",
    "sns.countplot(df['sentiment'])"
   ]
  },
  {
   "cell_type": "markdown",
   "id": "01fc6a77",
   "metadata": {},
   "source": [
    "# pre-processing"
   ]
  },
  {
   "cell_type": "code",
   "execution_count": 10,
   "id": "5d99da40",
   "metadata": {},
   "outputs": [],
   "source": [
    "#Normalization\n",
    "\n",
    "df['content'] = df['content'].apply(lambda x: \" \".join(x.lower() for x in x.split()))\n",
    "\n"
   ]
  },
  {
   "cell_type": "code",
   "execution_count": 11,
   "id": "98ea4eae",
   "metadata": {},
   "outputs": [
    {
     "name": "stderr",
     "output_type": "stream",
     "text": [
      "C:\\Users\\MUHAMM~1\\AppData\\Local\\Temp/ipykernel_14820/1223891886.py:3: FutureWarning: The default value of regex will change from True to False in a future version.\n",
      "  df['content'] = df['content'].str.replace('[^\\w\\s]',' ')\n"
     ]
    }
   ],
   "source": [
    "# Punctuation, Symbols\n",
    "\n",
    "df['content'] = df['content'].str.replace('[^\\w\\s]',' ')"
   ]
  },
  {
   "cell_type": "code",
   "execution_count": 12,
   "id": "ee6b7c89",
   "metadata": {},
   "outputs": [],
   "source": [
    "#Stop Words\n",
    "\n",
    "from nltk.corpus import stopwords\n",
    "stop = stopwords.words('english')\n",
    "df['content'] = df['content'].apply(lambda x: \" \".join(x for x in x.split() if x not in stop))"
   ]
  },
  {
   "cell_type": "code",
   "execution_count": 13,
   "id": "a5794f40",
   "metadata": {},
   "outputs": [],
   "source": [
    "#Lemmatization\n",
    "\n",
    "from textblob import Word\n",
    "df['content'] = df['content'].apply(lambda x: \" \".join([Word(word).lemmatize() for word in x.split()]))"
   ]
  },
  {
   "cell_type": "code",
   "execution_count": 14,
   "id": "a72d450b",
   "metadata": {},
   "outputs": [],
   "source": [
    "#Correcting more than 2 Repetitions\n",
    "\n",
    "import re\n",
    "\n",
    "def de_repeat(text):\n",
    "    pattern = re.compile(r\"(.)\\1{2,}\")\n",
    "    return pattern.sub(r\"\\1\\1\", text)\n",
    "\n",
    "df['content'] = df['content'].apply(lambda x: \" \".join(de_repeat(x) for x in x.split()))\n"
   ]
  },
  {
   "cell_type": "code",
   "execution_count": 15,
   "id": "0ed32683",
   "metadata": {},
   "outputs": [
    {
     "data": {
      "text/plain": [
       "dancefloor            1\n",
       "dj_diva               1\n",
       "bennsu                1\n",
       "gallethoo             1\n",
       "lexiphanic            1\n",
       "                     ..\n",
       "avaamnesia            1\n",
       "flucio                1\n",
       "flaxandfiberfriday    1\n",
       "dougbenson            1\n",
       "subbing               1\n",
       "Length: 1300, dtype: int64"
      ]
     },
     "execution_count": 15,
     "metadata": {},
     "output_type": "execute_result"
    }
   ],
   "source": [
    "freq = pd.Series(' '.join(df['content']).split()).value_counts()[-1300:]\n",
    "freq"
   ]
  },
  {
   "cell_type": "code",
   "execution_count": 16,
   "id": "12d42cc9",
   "metadata": {},
   "outputs": [],
   "source": [
    "freq = list(freq.index)\n",
    "df['content'] = df['content'].apply(lambda x: \" \".join(x for x in x.split() if x not in freq))"
   ]
  },
  {
   "cell_type": "code",
   "execution_count": 17,
   "id": "33aaa638",
   "metadata": {},
   "outputs": [
    {
     "data": {
      "text/html": [
       "<div>\n",
       "<style scoped>\n",
       "    .dataframe tbody tr th:only-of-type {\n",
       "        vertical-align: middle;\n",
       "    }\n",
       "\n",
       "    .dataframe tbody tr th {\n",
       "        vertical-align: top;\n",
       "    }\n",
       "\n",
       "    .dataframe thead th {\n",
       "        text-align: right;\n",
       "    }\n",
       "</style>\n",
       "<table border=\"1\" class=\"dataframe\">\n",
       "  <thead>\n",
       "    <tr style=\"text-align: right;\">\n",
       "      <th></th>\n",
       "      <th>sentiment</th>\n",
       "      <th>content</th>\n",
       "    </tr>\n",
       "  </thead>\n",
       "  <tbody>\n",
       "    <tr>\n",
       "      <th>1</th>\n",
       "      <td>sadness</td>\n",
       "      <td>layin n bed headache ughh waitin call</td>\n",
       "    </tr>\n",
       "    <tr>\n",
       "      <th>2</th>\n",
       "      <td>sadness</td>\n",
       "      <td>funeral ceremony gloomy friday</td>\n",
       "    </tr>\n",
       "    <tr>\n",
       "      <th>4</th>\n",
       "      <td>neutral</td>\n",
       "      <td>dannycastillo want trade someone houston ticke...</td>\n",
       "    </tr>\n",
       "    <tr>\n",
       "      <th>6</th>\n",
       "      <td>sadness</td>\n",
       "      <td>sleep im thinking old friend want married damn...</td>\n",
       "    </tr>\n",
       "    <tr>\n",
       "      <th>8</th>\n",
       "      <td>sadness</td>\n",
       "      <td>charviray charlene love miss</td>\n",
       "    </tr>\n",
       "  </tbody>\n",
       "</table>\n",
       "</div>"
      ],
      "text/plain": [
       "  sentiment                                            content\n",
       "1   sadness              layin n bed headache ughh waitin call\n",
       "2   sadness                     funeral ceremony gloomy friday\n",
       "4   neutral  dannycastillo want trade someone houston ticke...\n",
       "6   sadness  sleep im thinking old friend want married damn...\n",
       "8   sadness                       charviray charlene love miss"
      ]
     },
     "execution_count": 17,
     "metadata": {},
     "output_type": "execute_result"
    }
   ],
   "source": [
    "df.head()"
   ]
  },
  {
   "cell_type": "markdown",
   "id": "415019cc",
   "metadata": {},
   "source": [
    "# Feature extraction\n"
   ]
  },
  {
   "cell_type": "code",
   "execution_count": 78,
   "id": "eae85c70",
   "metadata": {},
   "outputs": [
    {
     "data": {
      "text/plain": [
       "array([3, 3, 2, ..., 0, 0, 0])"
      ]
     },
     "execution_count": 78,
     "metadata": {},
     "output_type": "execute_result"
    }
   ],
   "source": [
    "#Encoding output labels\n",
    "\n",
    "from sklearn import preprocessing\n",
    "lbl_enc = preprocessing.LabelEncoder()\n",
    "y = lbl_enc.fit_transform(df['sentiment'].values)\n",
    "y"
   ]
  },
  {
   "cell_type": "code",
   "execution_count": 79,
   "id": "0d13c8d1",
   "metadata": {},
   "outputs": [
    {
     "data": {
      "text/plain": [
       "array(['forsakendaemon hooray',\n",
       "       'sarahjanderson skinny dipping work colleague maybe never live lot',\n",
       "       'feelin lonely spendin last 50 hour friend', ...,\n",
       "       'ooh feel sleepy 10 24 dont wanna go school 2day',\n",
       "       'musicsinmysoul_ http twitpic com 4wi78 hmm thats bu tour list thats cool say 2008',\n",
       "       'help feel personally insulted oscar denounced idea grotesque unrealistic'],\n",
       "      dtype=object)"
      ]
     },
     "execution_count": 79,
     "metadata": {},
     "output_type": "execute_result"
    }
   ],
   "source": [
    "#train & test split\n",
    "\n",
    "from sklearn.model_selection import train_test_split\n",
    "X_train, X_val, y_train, y_val = train_test_split(df['content'].values, y, random_state=42, test_size=0.2, shuffle=True)\n",
    "X_train"
   ]
  },
  {
   "cell_type": "code",
   "execution_count": 20,
   "id": "462f2b6d",
   "metadata": {},
   "outputs": [
    {
     "data": {
      "text/plain": [
       "<22484x1000 sparse matrix of type '<class 'numpy.float64'>'\n",
       "\twith 118772 stored elements in Compressed Sparse Row format>"
      ]
     },
     "execution_count": 20,
     "metadata": {},
     "output_type": "execute_result"
    }
   ],
   "source": [
    "#TF-IDF\n",
    "\n",
    "from sklearn.feature_extraction.text import TfidfVectorizer\n",
    "tfidf = TfidfVectorizer(max_features=1000, analyzer='word',ngram_range=(1,3))\n",
    "X_train_tfidf = tfidf.fit_transform(X_train)\n",
    "X_val_tfidf = tfidf.fit_transform(X_val)\n",
    "\n",
    "X_train_tfidf"
   ]
  },
  {
   "cell_type": "code",
   "execution_count": 21,
   "id": "5e7129d3",
   "metadata": {},
   "outputs": [
    {
     "data": {
      "text/plain": [
       "<22484x28841 sparse matrix of type '<class 'numpy.int64'>'\n",
       "\twith 171962 stored elements in Compressed Sparse Row format>"
      ]
     },
     "execution_count": 21,
     "metadata": {},
     "output_type": "execute_result"
    }
   ],
   "source": [
    "#Count vectorizer\n",
    "\n",
    "from sklearn.feature_extraction.text import CountVectorizer\n",
    "count_vect = CountVectorizer(analyzer='word')\n",
    "count_vect.fit(df['content'])\n",
    "X_train_count =  count_vect.transform(X_train)\n",
    "X_val_count =  count_vect.transform(X_val)\n",
    "\n",
    "X_train_count"
   ]
  },
  {
   "cell_type": "markdown",
   "id": "b084021c",
   "metadata": {},
   "source": [
    "# Modeling"
   ]
  },
  {
   "cell_type": "code",
   "execution_count": 22,
   "id": "a9691bc4",
   "metadata": {},
   "outputs": [
    {
     "name": "stdout",
     "output_type": "stream",
     "text": [
      "svm using tfidf accuracy 0.36363636363636365\n",
      "random forest using tfidf accuracy 0.3280555061376979\n"
     ]
    }
   ],
   "source": [
    "# Models with TF-IDF \n",
    "from sklearn.metrics import accuracy_score\n",
    "\n",
    "\n",
    "# Model 1: Linear SVM\n",
    "from sklearn.linear_model import SGDClassifier\n",
    "lsvm = SGDClassifier(alpha=0.001, random_state=5, max_iter=20)\n",
    "lsvm.fit(X_train_tfidf, y_train)\n",
    "y_pred = lsvm.predict(X_val_tfidf)\n",
    "print('svm using tfidf accuracy %s' % accuracy_score(y_pred, y_val))\n",
    "\n",
    "\n",
    "\n",
    "# Model 2: Random Forest Classifier\n",
    "from sklearn.ensemble import RandomForestClassifier\n",
    "rf = RandomForestClassifier(n_estimators=500)\n",
    "rf.fit(X_train_tfidf, y_train)\n",
    "y_pred = rf.predict(X_val_tfidf)\n",
    "print('random forest using tfidf accuracy %s' % accuracy_score(y_pred, y_val))\n"
   ]
  },
  {
   "cell_type": "code",
   "execution_count": 23,
   "id": "8db6995c",
   "metadata": {},
   "outputs": [
    {
     "name": "stdout",
     "output_type": "stream",
     "text": [
      "lsvm using count vectors accuracy 0.7155310442981676\n",
      "random forest with count vectors accuracy 0.7123287671232876\n"
     ]
    }
   ],
   "source": [
    "#Models with count vectorization\n",
    "\n",
    "# Model 2: Linear SVM\n",
    "from sklearn.linear_model import SGDClassifier\n",
    "lsvm = SGDClassifier(alpha=0.001, random_state=5, max_iter=15, tol=None)\n",
    "lsvm.fit(X_train_count, y_train)\n",
    "y_pred = lsvm.predict(X_val_count)\n",
    "print('lsvm using count vectors accuracy %s' % accuracy_score(y_pred, y_val))\n",
    "\n",
    "\n",
    "# Model 4: Random Forest Classifier\n",
    "from sklearn.ensemble import RandomForestClassifier\n",
    "rf = RandomForestClassifier(n_estimators=100)\n",
    "rf.fit(X_train_count, y_train)\n",
    "y_pred = rf.predict(X_val_count)\n",
    "print('random forest with count vectors accuracy %s' % accuracy_score(y_pred, y_val))\n"
   ]
  },
  {
   "cell_type": "markdown",
   "id": "d17b0575",
   "metadata": {},
   "source": [
    "# pipeline the best model"
   ]
  },
  {
   "cell_type": "code",
   "execution_count": 107,
   "id": "9d1fa559",
   "metadata": {},
   "outputs": [
    {
     "name": "stdout",
     "output_type": "stream",
     "text": [
      "[3 3 3 ... 3 0 3]\n",
      "['sadness' 'sadness' 'sadness' ... 'sadness' 'anger' 'sadness']\n",
      "lsvm using count vectors accuracy 0.7155310442981676\n"
     ]
    }
   ],
   "source": [
    "from sklearn.pipeline import Pipeline\n",
    "\n",
    "model= Pipeline([('vctorizer',CountVectorizer(analyzer='word')) , ('classifier',SGDClassifier(alpha=0.001, random_state=5, max_iter=15, tol=None))])\n",
    "\n",
    "model.fit(X_train, y_train)\n",
    "y_pred=model.predict(X_val)\n",
    "print(y_pred)\n",
    "print(lbl_enc.inverse_transform(y_pred))\n",
    "print('lsvm using count vectors accuracy %s' % accuracy_score(y_pred, y_val))\n"
   ]
  },
  {
   "cell_type": "code",
   "execution_count": 92,
   "id": "e21ef4a8",
   "metadata": {},
   "outputs": [
    {
     "data": {
      "text/plain": [
       "'im sure couple month feeling homesick skype family thanksgiving im working first time december th taiwan already surprised interesting enjoyable holiday'"
      ]
     },
     "execution_count": 92,
     "metadata": {},
     "output_type": "execute_result"
    }
   ],
   "source": [
    "X_val[2]"
   ]
  },
  {
   "cell_type": "code",
   "execution_count": 110,
   "id": "78440497",
   "metadata": {},
   "outputs": [
    {
     "data": {
      "text/plain": [
       "array(['neutral'], dtype=object)"
      ]
     },
     "execution_count": 110,
     "metadata": {},
     "output_type": "execute_result"
    }
   ],
   "source": [
    "xx=model.predict([\"iam so angry\"])\n",
    "xx\n",
    "xxx=lbl_enc.inverse_transform(xx)\n",
    "xxx"
   ]
  },
  {
   "cell_type": "code",
   "execution_count": 93,
   "id": "da56da43",
   "metadata": {},
   "outputs": [],
   "source": [
    "import pickle\n",
    "pkl_filename = 'final_model.pkl'\n",
    "with open(pkl_filename, 'wb') as f:\n",
    "    pickle.dump(model, f)"
   ]
  },
  {
   "cell_type": "markdown",
   "id": "0491f1a1",
   "metadata": {},
   "source": [
    "# Deep Learning"
   ]
  },
  {
   "cell_type": "code",
   "execution_count": 26,
   "id": "5358fdbe",
   "metadata": {},
   "outputs": [
    {
     "name": "stdout",
     "output_type": "stream",
     "text": [
      "1\n"
     ]
    }
   ],
   "source": [
    "from keras.preprocessing.text import Tokenizer\n",
    "from keras.preprocessing.sequence import pad_sequences\n",
    "from keras.models import Sequential\n",
    "from keras.layers.core import Activation, Dropout, Dense\n",
    "from keras.layers import Flatten, LSTM, Bidirectional, Conv1D, GRU,SpatialDropout1D\n",
    "from keras.layers import GlobalMaxPooling1D, GlobalAveragePooling1D,MaxPooling1D\n",
    "from keras.layers.embeddings import Embedding\n",
    "\n",
    "num_words = 10000 # this means 10000 unique words can be taken \n",
    "\n",
    "tokenizer=Tokenizer(num_words,lower=True)\n",
    "\n",
    "vocab_size = len(tokenizer.word_index) + 1\n",
    "\n",
    "data=tokenizer.fit_on_texts(df['content'])\n",
    "data=tokenizer.texts_to_sequences(df['content']) \n",
    "print(vocab_size)"
   ]
  },
  {
   "cell_type": "code",
   "execution_count": 27,
   "id": "7a34e561",
   "metadata": {},
   "outputs": [],
   "source": [
    "X_train, X_val, y_train, y_val = train_test_split(data, y, random_state=42, test_size=0.2, shuffle=True)\n"
   ]
  },
  {
   "cell_type": "code",
   "execution_count": 28,
   "id": "6497afc5",
   "metadata": {},
   "outputs": [],
   "source": [
    "X_train = pad_sequences(X_train, padding='post', maxlen=100)\n",
    "X_val = pad_sequences(X_val, padding='post', maxlen=100)\n"
   ]
  },
  {
   "cell_type": "code",
   "execution_count": 29,
   "id": "acc36deb",
   "metadata": {},
   "outputs": [
    {
     "name": "stdout",
     "output_type": "stream",
     "text": [
      "Found 400000 word vectors.\n"
     ]
    }
   ],
   "source": [
    "embeddings_index = {} \n",
    "\n",
    "f = open('glove.6B.100d.txt', encoding=\"utf8\") \n",
    "\n",
    "for line in f: \n",
    "    values = line.split() \n",
    "    word = values[0] \n",
    "    coefs = np.asarray(values[1:], dtype='float32') \n",
    "    embeddings_index[word] = coefs \n",
    "f.close()\n",
    "print('Found %s word vectors.' % len(embeddings_index))"
   ]
  },
  {
   "cell_type": "code",
   "execution_count": 30,
   "id": "99ebd991",
   "metadata": {},
   "outputs": [
    {
     "data": {
      "text/plain": [
       "array([[ 0.        ,  0.        ,  0.        , ...,  0.        ,\n",
       "         0.        ,  0.        ],\n",
       "       [-0.042895  ,  0.70670998,  0.75316   , ..., -0.54229999,\n",
       "         0.11809   ,  0.39974001],\n",
       "       [ 0.29164001,  0.39796001,  1.04530001, ..., -0.46880999,\n",
       "        -0.04079   ,  0.45881999],\n",
       "       ...,\n",
       "       [ 0.37327999, -0.34395   ,  0.30717   , ...,  0.43054   ,\n",
       "        -0.25185999, -0.015864  ],\n",
       "       [-0.073637  , -0.15961   ,  0.14008   , ...,  0.40781   ,\n",
       "        -0.96354002,  0.17701   ],\n",
       "       [-0.54747999,  0.47907001,  0.29262999, ...,  0.17169   ,\n",
       "         0.71335   , -0.23613   ]])"
      ]
     },
     "execution_count": 30,
     "metadata": {},
     "output_type": "execute_result"
    }
   ],
   "source": [
    "embedding_matrix = np.zeros((len( tokenizer.word_index)+1, 100)) \n",
    "\n",
    "for word, i in tokenizer.word_index.items(): \n",
    "    \n",
    "    embedding_vector = embeddings_index.get(word) \n",
    "    \n",
    "    if embedding_vector is not None: \n",
    "        \n",
    "        embedding_matrix[i] = embedding_vector\n",
    "\n",
    "embedding_matrix"
   ]
  },
  {
   "cell_type": "code",
   "execution_count": 31,
   "id": "e932b920",
   "metadata": {},
   "outputs": [
    {
     "name": "stdout",
     "output_type": "stream",
     "text": [
      "Model: \"sequential\"\n",
      "_________________________________________________________________\n",
      " Layer (type)                Output Shape              Param #   \n",
      "=================================================================\n",
      " embedding (Embedding)       (None, 100, 100)          2877400   \n",
      "                                                                 \n",
      " spatial_dropout1d (SpatialD  (None, 100, 100)         0         \n",
      " ropout1D)                                                       \n",
      "                                                                 \n",
      " bidirectional (Bidirectiona  (None, 200)              160800    \n",
      " l)                                                              \n",
      "                                                                 \n",
      " dense (Dense)               (None, 1024)              205824    \n",
      "                                                                 \n",
      " dropout (Dropout)           (None, 1024)              0         \n",
      "                                                                 \n",
      " dense_1 (Dense)             (None, 1024)              1049600   \n",
      "                                                                 \n",
      " dropout_1 (Dropout)         (None, 1024)              0         \n",
      "                                                                 \n",
      " dense_2 (Dense)             (None, 4)                 4100      \n",
      "                                                                 \n",
      " activation (Activation)     (None, 4)                 0         \n",
      "                                                                 \n",
      "=================================================================\n",
      "Total params: 4,297,724\n",
      "Trainable params: 1,420,324\n",
      "Non-trainable params: 2,877,400\n",
      "_________________________________________________________________\n",
      "None\n"
     ]
    }
   ],
   "source": [
    "model = Sequential() \n",
    "model.add(Embedding(len(tokenizer.word_index) + 1, \n",
    " 100, \n",
    " weights=[embedding_matrix], \n",
    " input_length=100, \n",
    " trainable=False)) \n",
    "model.add(SpatialDropout1D(0.3)) \n",
    "model.add(Bidirectional(LSTM(100, dropout=0.3, recurrent_dropout=0.3)))\n",
    "model.add(Dense(1024, activation='relu')) \n",
    "model.add(Dropout(0.8))\n",
    "model.add(Dense(1024, activation='relu')) \n",
    "model.add(Dropout(0.8))\n",
    "model.add(Dense(4)) \n",
    "model.add(Activation('softmax')) \n",
    "model.compile(loss='sparse_categorical_crossentropy', optimizer='adam', metrics=['accuracy'])\n",
    "\n",
    "print(model.summary())\n"
   ]
  },
  {
   "cell_type": "code",
   "execution_count": 32,
   "id": "c641af75",
   "metadata": {},
   "outputs": [],
   "source": [
    "#EarlyStopping and ModelCheckpoint\n",
    "from keras.callbacks import EarlyStopping, ModelCheckpoint\n",
    "es = EarlyStopping(monitor = 'val_loss', mode = 'min', verbose = 1, patience = 5)\n",
    "mc = ModelCheckpoint('./model.h5', monitor = 'val_accuracy', mode = 'max', verbose = 1, save_best_only = True)"
   ]
  },
  {
   "cell_type": "code",
   "execution_count": 33,
   "id": "c198fbb4",
   "metadata": {},
   "outputs": [
    {
     "name": "stdout",
     "output_type": "stream",
     "text": [
      "Epoch 1/30\n",
      "188/188 [==============================] - ETA: 0s - loss: 1.0992 - accuracy: 0.4758\n",
      "Epoch 00001: val_accuracy improved from -inf to 0.54385, saving model to .\\model.h5\n",
      "188/188 [==============================] - 177s 883ms/step - loss: 1.0992 - accuracy: 0.4758 - val_loss: 0.9351 - val_accuracy: 0.5439\n",
      "Epoch 2/30\n",
      "188/188 [==============================] - ETA: 0s - loss: 0.9729 - accuracy: 0.5445\n",
      "Epoch 00002: val_accuracy improved from 0.54385 to 0.64134, saving model to .\\model.h5\n",
      "188/188 [==============================] - 168s 896ms/step - loss: 0.9729 - accuracy: 0.5445 - val_loss: 0.8502 - val_accuracy: 0.6413\n",
      "Epoch 3/30\n",
      "188/188 [==============================] - ETA: 0s - loss: 0.9156 - accuracy: 0.5819\n",
      "Epoch 00003: val_accuracy improved from 0.64134 to 0.65611, saving model to .\\model.h5\n",
      "188/188 [==============================] - 177s 941ms/step - loss: 0.9156 - accuracy: 0.5819 - val_loss: 0.7949 - val_accuracy: 0.6561\n",
      "Epoch 4/30\n",
      "188/188 [==============================] - ETA: 0s - loss: 0.8841 - accuracy: 0.6085\n",
      "Epoch 00004: val_accuracy improved from 0.65611 to 0.67693, saving model to .\\model.h5\n",
      "188/188 [==============================] - 176s 936ms/step - loss: 0.8841 - accuracy: 0.6085 - val_loss: 0.7602 - val_accuracy: 0.6769\n",
      "Epoch 5/30\n",
      "188/188 [==============================] - ETA: 0s - loss: 0.8495 - accuracy: 0.6250\n",
      "Epoch 00005: val_accuracy did not improve from 0.67693\n",
      "188/188 [==============================] - 178s 948ms/step - loss: 0.8495 - accuracy: 0.6250 - val_loss: 0.7687 - val_accuracy: 0.6629\n",
      "Epoch 6/30\n",
      "188/188 [==============================] - ETA: 0s - loss: 0.8334 - accuracy: 0.6308\n",
      "Epoch 00006: val_accuracy improved from 0.67693 to 0.69294, saving model to .\\model.h5\n",
      "188/188 [==============================] - 178s 946ms/step - loss: 0.8334 - accuracy: 0.6308 - val_loss: 0.7131 - val_accuracy: 0.6929\n",
      "Epoch 7/30\n",
      "188/188 [==============================] - ETA: 0s - loss: 0.8110 - accuracy: 0.6469\n",
      "Epoch 00007: val_accuracy improved from 0.69294 to 0.70379, saving model to .\\model.h5\n",
      "188/188 [==============================] - 181s 963ms/step - loss: 0.8110 - accuracy: 0.6469 - val_loss: 0.6962 - val_accuracy: 0.7038\n",
      "Epoch 8/30\n",
      "188/188 [==============================] - ETA: 0s - loss: 0.7996 - accuracy: 0.6534\n",
      "Epoch 00008: val_accuracy improved from 0.70379 to 0.70824, saving model to .\\model.h5\n",
      "188/188 [==============================] - 182s 969ms/step - loss: 0.7996 - accuracy: 0.6534 - val_loss: 0.6874 - val_accuracy: 0.7082\n",
      "Epoch 9/30\n",
      "188/188 [==============================] - ETA: 0s - loss: 0.7806 - accuracy: 0.6652\n",
      "Epoch 00009: val_accuracy improved from 0.70824 to 0.71233, saving model to .\\model.h5\n",
      "188/188 [==============================] - 179s 952ms/step - loss: 0.7806 - accuracy: 0.6652 - val_loss: 0.6719 - val_accuracy: 0.7123\n",
      "Epoch 10/30\n",
      "188/188 [==============================] - ETA: 0s - loss: 0.7774 - accuracy: 0.6675\n",
      "Epoch 00010: val_accuracy improved from 0.71233 to 0.71286, saving model to .\\model.h5\n",
      "188/188 [==============================] - 182s 966ms/step - loss: 0.7774 - accuracy: 0.6675 - val_loss: 0.6708 - val_accuracy: 0.7129\n",
      "Epoch 11/30\n",
      "188/188 [==============================] - ETA: 0s - loss: 0.7659 - accuracy: 0.6687\n",
      "Epoch 00011: val_accuracy did not improve from 0.71286\n",
      "188/188 [==============================] - 179s 954ms/step - loss: 0.7659 - accuracy: 0.6687 - val_loss: 0.6670 - val_accuracy: 0.7114\n",
      "Epoch 12/30\n",
      "188/188 [==============================] - ETA: 0s - loss: 0.7556 - accuracy: 0.6775\n",
      "Epoch 00012: val_accuracy did not improve from 0.71286\n",
      "188/188 [==============================] - 180s 960ms/step - loss: 0.7556 - accuracy: 0.6775 - val_loss: 0.6709 - val_accuracy: 0.7057\n",
      "Epoch 13/30\n",
      "188/188 [==============================] - ETA: 0s - loss: 0.7498 - accuracy: 0.6778\n",
      "Epoch 00013: val_accuracy improved from 0.71286 to 0.71784, saving model to .\\model.h5\n",
      "188/188 [==============================] - 181s 960ms/step - loss: 0.7498 - accuracy: 0.6778 - val_loss: 0.6594 - val_accuracy: 0.7178\n",
      "Epoch 14/30\n",
      "188/188 [==============================] - ETA: 0s - loss: 0.7420 - accuracy: 0.6795\n",
      "Epoch 00014: val_accuracy did not improve from 0.71784\n",
      "188/188 [==============================] - 180s 956ms/step - loss: 0.7420 - accuracy: 0.6795 - val_loss: 0.6635 - val_accuracy: 0.7171\n",
      "Epoch 15/30\n",
      "188/188 [==============================] - ETA: 0s - loss: 0.7376 - accuracy: 0.6844\n",
      "Epoch 00015: val_accuracy did not improve from 0.71784\n",
      "188/188 [==============================] - 179s 952ms/step - loss: 0.7376 - accuracy: 0.6844 - val_loss: 0.6679 - val_accuracy: 0.7120\n",
      "Epoch 16/30\n",
      "188/188 [==============================] - ETA: 0s - loss: 0.7285 - accuracy: 0.6876\n",
      "Epoch 00016: val_accuracy did not improve from 0.71784\n",
      "188/188 [==============================] - 182s 968ms/step - loss: 0.7285 - accuracy: 0.6876 - val_loss: 0.6575 - val_accuracy: 0.7152\n",
      "Epoch 17/30\n",
      "188/188 [==============================] - ETA: 0s - loss: 0.7258 - accuracy: 0.6876\n",
      "Epoch 00017: val_accuracy did not improve from 0.71784\n",
      "188/188 [==============================] - 181s 964ms/step - loss: 0.7258 - accuracy: 0.6876 - val_loss: 0.6641 - val_accuracy: 0.7150\n",
      "Epoch 18/30\n",
      "188/188 [==============================] - ETA: 0s - loss: 0.7190 - accuracy: 0.6926\n",
      "Epoch 00018: val_accuracy improved from 0.71784 to 0.71820, saving model to .\\model.h5\n",
      "188/188 [==============================] - 180s 959ms/step - loss: 0.7190 - accuracy: 0.6926 - val_loss: 0.6480 - val_accuracy: 0.7182\n",
      "Epoch 19/30\n",
      "188/188 [==============================] - ETA: 0s - loss: 0.7182 - accuracy: 0.6910\n",
      "Epoch 00019: val_accuracy improved from 0.71820 to 0.71980, saving model to .\\model.h5\n",
      "188/188 [==============================] - 182s 969ms/step - loss: 0.7182 - accuracy: 0.6910 - val_loss: 0.6460 - val_accuracy: 0.7198\n",
      "Epoch 20/30\n",
      "188/188 [==============================] - ETA: 0s - loss: 0.7092 - accuracy: 0.6987\n",
      "Epoch 00020: val_accuracy improved from 0.71980 to 0.72176, saving model to .\\model.h5\n",
      "188/188 [==============================] - 180s 958ms/step - loss: 0.7092 - accuracy: 0.6987 - val_loss: 0.6385 - val_accuracy: 0.7218\n",
      "Epoch 21/30\n",
      "188/188 [==============================] - ETA: 0s - loss: 0.7103 - accuracy: 0.6966\n",
      "Epoch 00021: val_accuracy improved from 0.72176 to 0.72371, saving model to .\\model.h5\n",
      "188/188 [==============================] - 182s 967ms/step - loss: 0.7103 - accuracy: 0.6966 - val_loss: 0.6350 - val_accuracy: 0.7237\n",
      "Epoch 22/30\n",
      "188/188 [==============================] - ETA: 0s - loss: 0.7049 - accuracy: 0.6988\n",
      "Epoch 00022: val_accuracy improved from 0.72371 to 0.72425, saving model to .\\model.h5\n",
      "188/188 [==============================] - 179s 954ms/step - loss: 0.7049 - accuracy: 0.6988 - val_loss: 0.6359 - val_accuracy: 0.7242\n",
      "Epoch 23/30\n",
      "188/188 [==============================] - ETA: 0s - loss: 0.7011 - accuracy: 0.7005\n",
      "Epoch 00023: val_accuracy improved from 0.72425 to 0.72460, saving model to .\\model.h5\n",
      "188/188 [==============================] - 181s 964ms/step - loss: 0.7011 - accuracy: 0.7005 - val_loss: 0.6372 - val_accuracy: 0.7246\n",
      "Epoch 24/30\n",
      "188/188 [==============================] - ETA: 0s - loss: 0.7002 - accuracy: 0.7028\n",
      "Epoch 00024: val_accuracy did not improve from 0.72460\n",
      "188/188 [==============================] - 182s 970ms/step - loss: 0.7002 - accuracy: 0.7028 - val_loss: 0.6324 - val_accuracy: 0.7239\n",
      "Epoch 25/30\n",
      "188/188 [==============================] - ETA: 0s - loss: 0.6895 - accuracy: 0.7050\n",
      "Epoch 00025: val_accuracy improved from 0.72460 to 0.72798, saving model to .\\model.h5\n",
      "188/188 [==============================] - 180s 956ms/step - loss: 0.6895 - accuracy: 0.7050 - val_loss: 0.6328 - val_accuracy: 0.7280\n",
      "Epoch 26/30\n",
      "188/188 [==============================] - ETA: 0s - loss: 0.6911 - accuracy: 0.7026\n",
      "Epoch 00026: val_accuracy improved from 0.72798 to 0.72923, saving model to .\\model.h5\n",
      "188/188 [==============================] - 183s 973ms/step - loss: 0.6911 - accuracy: 0.7026 - val_loss: 0.6338 - val_accuracy: 0.7292\n",
      "Epoch 27/30\n",
      "188/188 [==============================] - ETA: 0s - loss: 0.6838 - accuracy: 0.7071\n",
      "Epoch 00027: val_accuracy improved from 0.72923 to 0.73190, saving model to .\\model.h5\n"
     ]
    },
    {
     "name": "stdout",
     "output_type": "stream",
     "text": [
      "188/188 [==============================] - 183s 973ms/step - loss: 0.6838 - accuracy: 0.7071 - val_loss: 0.6344 - val_accuracy: 0.7319\n",
      "Epoch 28/30\n",
      "188/188 [==============================] - ETA: 0s - loss: 0.6833 - accuracy: 0.7128\n",
      "Epoch 00028: val_accuracy did not improve from 0.73190\n",
      "188/188 [==============================] - 182s 967ms/step - loss: 0.6833 - accuracy: 0.7128 - val_loss: 0.6406 - val_accuracy: 0.7273\n",
      "Epoch 29/30\n",
      "188/188 [==============================] - ETA: 0s - loss: 0.6765 - accuracy: 0.7142\n",
      "Epoch 00029: val_accuracy did not improve from 0.73190\n",
      "188/188 [==============================] - 178s 946ms/step - loss: 0.6765 - accuracy: 0.7142 - val_loss: 0.6234 - val_accuracy: 0.7305\n",
      "Epoch 30/30\n",
      "188/188 [==============================] - ETA: 0s - loss: 0.6808 - accuracy: 0.7114\n",
      "Epoch 00030: val_accuracy did not improve from 0.73190\n",
      "188/188 [==============================] - 180s 957ms/step - loss: 0.6808 - accuracy: 0.7114 - val_loss: 0.6230 - val_accuracy: 0.7296\n"
     ]
    }
   ],
   "source": [
    "history_embedding = model.fit(X_train, y_train, \n",
    "                                epochs = 30, batch_size = 120, \n",
    "                                validation_data=(X_val, y_val),\n",
    "                                verbose = 1, callbacks= [es, mc]  )"
   ]
  },
  {
   "cell_type": "code",
   "execution_count": 34,
   "id": "93ca0117",
   "metadata": {},
   "outputs": [
    {
     "data": {
      "image/png": "[encoded data removed]",
      "text/plain": [
       "<Figure size 432x288 with 1 Axes>"
      ]
     },
     "metadata": {
      "needs_background": "light"
     },
     "output_type": "display_data"
    }
   ],
   "source": [
    "import matplotlib.pyplot as plt\n",
    "plt.plot(history_embedding.history['accuracy'],c='b',label='train accuracy')\n",
    "plt.plot(history_embedding.history['val_accuracy'],c='r',label='validation accuracy')\n",
    "plt.legend(loc='lower right')\n",
    "plt.show()"
   ]
  },
  {
   "cell_type": "code",
   "execution_count": 35,
   "id": "9a41160e",
   "metadata": {},
   "outputs": [
    {
     "data": {
      "text/plain": [
       "0.7295854830101406"
      ]
     },
     "execution_count": 35,
     "metadata": {},
     "output_type": "execute_result"
    }
   ],
   "source": [
    "y_pred=model.predict(X_val)\n",
    "y_pred=np.argmax(y_pred,axis=1)\n",
    "\n",
    "y_pred=lbl_enc.inverse_transform(y_pred)\n",
    "y_test=lbl_enc.inverse_transform(y_val)\n",
    "\n",
    "\n",
    "from sklearn.metrics import confusion_matrix ,classification_report\n",
    "from sklearn.metrics import accuracy_score\n",
    "\n",
    "accuracy_score(y_test,y_pred)"
   ]
  },
  {
   "cell_type": "code",
   "execution_count": 36,
   "id": "a34c7bf6",
   "metadata": {},
   "outputs": [
    {
     "name": "stdout",
     "output_type": "stream",
     "text": [
      "              precision    recall  f1-score   support\n",
      "\n",
      "       anger       0.96      0.94      0.95       856\n",
      "   happiness       0.62      0.54      0.58      1051\n",
      "     neutral       0.60      0.73      0.66      1686\n",
      "     sadness       0.83      0.74      0.78      2028\n",
      "\n",
      "    accuracy                           0.73      5621\n",
      "   macro avg       0.75      0.74      0.74      5621\n",
      "weighted avg       0.74      0.73      0.73      5621\n",
      "\n"
     ]
    }
   ],
   "source": [
    "print(classification_report(y_test, y_pred))"
   ]
  }
 ],
 "metadata": {
  "kernelspec": {
   "display_name": "Python 3 (ipykernel)",
   "language": "python",
   "name": "python3"
  },
  "language_info": {
   "codemirror_mode": {
    "name": "ipython",
    "version": 3
   },
   "file_extension": ".py",
   "mimetype": "text/x-python",
   "name": "python",
   "nbconvert_exporter": "python",
   "pygments_lexer": "ipython3",
   "version": "3.8.12"
  }
 },
 "nbformat": 4,
 "nbformat_minor": 5
}
